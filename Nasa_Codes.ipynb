{
 "cells": [
  {
   "cell_type": "markdown",
   "metadata": {},
   "source": [
    "* PySpark - consultas\n",
    "*  http://spark.apache.org/docs/latest/rdd-programming-guide.html#transformations\n",
    "*  https://data-flair.training/blogs/spark-tutorials-home/"
   ]
  },
  {
   "cell_type": "code",
   "execution_count": 2,
   "metadata": {},
   "outputs": [],
   "source": [
    "?sc.parallelize"
   ]
  },
  {
   "cell_type": "code",
   "execution_count": 7,
   "metadata": {},
   "outputs": [],
   "source": [
    "from pyspark import SparkConf, SparkContext"
   ]
  },
  {
   "cell_type": "code",
   "execution_count": 8,
   "metadata": {},
   "outputs": [
    {
     "name": "stdout",
     "output_type": "stream",
     "text": [
      "<SparkContext master=local[*] appName=PySparkShell>\n"
     ]
    }
   ],
   "source": [
    "print(sc)"
   ]
  },
  {
   "cell_type": "code",
   "execution_count": 15,
   "metadata": {},
   "outputs": [],
   "source": [
    "#Lendo os dados de julho\n",
    "julRDD = sc.textFile('access_log_Jul95')\n",
    "julRDD = julRDD.cache()\n",
    "\n",
    "#Visualizando os dados - julRDD.first()\n",
    "#'199.72.81.55 - - [01/Jul/1995:00:00:01 -0400] \"GET /history/apollo/ HTTP/1.0\" 200 6245'\n",
    "\n",
    "#Lendo os dados de Agosto\n",
    "agoRDD = sc.textFile('access_log_Aug95')\n",
    "agoRDD = agoRDD.cache()\n",
    "\n",
    "#Visualizando os dados - agoRDD.first()\n",
    "#'in24.inetnebr.com - - [01/Aug/1995:00:00:01 -0400] \"GET /shuttle/missions/sts-68/news/sts-68-mcc-05.txt HTTP/1.0\" 200 1839'\n"
   ]
  },
  {
   "cell_type": "code",
   "execution_count": 16,
   "metadata": {},
   "outputs": [
    {
     "name": "stdout",
     "output_type": "stream",
     "text": [
      "Número de hosts únicos em Julho: 55\n",
      "Número de hosts únicos em Agosto 53\n"
     ]
    }
   ],
   "source": [
    "# Número de Hosts únicos em Julho\n",
    "count_julho = julRDD.flatMap(lambda line: line.split(' ')[0]).distinct().count()\n",
    "print('Número de hosts únicos em Julho: %s' % count_julho)\n",
    "\n",
    "# Número de Hosts únicos em Agosto\n",
    "count_agosto = agoRDD.flatMap(lambda line: line.split(' ')[0]).distinct().count()\n",
    "print('Número de hosts únicos em Agosto %s' % count_agosto)"
   ]
  },
  {
   "cell_type": "code",
   "execution_count": 17,
   "metadata": {},
   "outputs": [
    {
     "name": "stdout",
     "output_type": "stream",
     "text": [
      "Erros 404 em Agosto 10056\n",
      "Erros 404 em Julho 10845\n"
     ]
    }
   ],
   "source": [
    "# total de erros em Agosto\n",
    "def total_agosto_404 (y):\n",
    "    try:\n",
    "        code_error = y.split(' ')[-2]\n",
    "        if code_error == '404':\n",
    "            return True\n",
    "    except:\n",
    "        pass\n",
    "    return False\n",
    "\n",
    "augustT = agoRDD.filter(total_agosto_404)\n",
    "print('Erros 404 em Agosto:',augustT.count())\n",
    "\n",
    "# total de erros em Julho\n",
    "def total_julho_404(x):\n",
    "    try:\n",
    "        code_error = x.split(' ')[-2]\n",
    "        if code_error == '404':\n",
    "            return True\n",
    "    except:\n",
    "        pass\n",
    "    return False\n",
    "\n",
    "julyT = julRDD.filter(total_julho_404)\n",
    "print('Erros 404 em Julho:',julyT.count())"
   ]
  },
  {
   "cell_type": "code",
   "execution_count": 20,
   "metadata": {},
   "outputs": [
    {
     "name": "stdout",
     "output_type": "stream",
     "text": [
      "Total de bytes em Julho: 38695973491\n",
      "Total de bytes em Agosto: 26828341424\n"
     ]
    }
   ],
   "source": [
    "from operator import add\n",
    "\n",
    "#Total de bytes retornados\n",
    "def byte_count_total(rdd):\n",
    "    def countbytes(line):\n",
    "        try:\n",
    "            count = int(line.split(\" \")[-1])\n",
    "            if count < 0:\n",
    "                raise ValueError()\n",
    "            return count\n",
    "        except:\n",
    "            return 0\n",
    "        \n",
    "    count = rdd.map(countbytes).reduce(add)\n",
    "    return count\n",
    "\n",
    "print('Total de bytes em Julho: %s' % byte_count_total(julRDD))\n",
    "print('Total de bytes em Agosto: %s' % byte_count_total(agoRDD))"
   ]
  },
  {
   "cell_type": "code",
   "execution_count": null,
   "metadata": {},
   "outputs": [],
   "source": []
  }
 ],
 "metadata": {
  "kernelspec": {
   "display_name": "Python 3",
   "language": "python",
   "name": "python3"
  },
  "language_info": {
   "codemirror_mode": {
    "name": "ipython",
    "version": 3
   },
   "file_extension": ".py",
   "mimetype": "text/x-python",
   "name": "python",
   "nbconvert_exporter": "python",
   "pygments_lexer": "ipython3",
   "version": "3.7.1"
  }
 },
 "nbformat": 4,
 "nbformat_minor": 2
}
